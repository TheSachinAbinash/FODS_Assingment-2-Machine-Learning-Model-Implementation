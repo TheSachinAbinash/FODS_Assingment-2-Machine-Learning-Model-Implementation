{
 "cells": [
  {
   "cell_type": "markdown",
   "metadata": {},
   "source": [
    "FODS :- Machine Learning Model Implementation.\n",
    "\n",
    "Dataset Chosen:- Superhero Data \n",
    "Model Used :- Clustering"
   ]
  },
  {
   "cell_type": "code",
   "execution_count": 1,
   "metadata": {},
   "outputs": [],
   "source": [
    "# Importing all required libraries.\n",
    "\n",
    "import numpy as np\n",
    "import pandas as pd\n",
    "import matplotlib.pyplot as plt\n",
    "import seaborn as sns\n",
    "import plotly.graph_objects as go\n",
    "import plotly.express as px\n",
    "import plotly.io as pio\n",
    "pio.templates.default = \"plotly_white\"\n",
    "from sklearn.metrics import davies_bouldin_score\n",
    "\n",
    "# Ignore the warnings\n",
    "import warnings\n",
    "warnings.filterwarnings('ignore')"
   ]
  },
  {
   "cell_type": "code",
   "execution_count": 23,
   "metadata": {},
   "outputs": [
    {
     "data": {
      "text/html": [
       "<div>\n",
       "<style scoped>\n",
       "    .dataframe tbody tr th:only-of-type {\n",
       "        vertical-align: middle;\n",
       "    }\n",
       "\n",
       "    .dataframe tbody tr th {\n",
       "        vertical-align: top;\n",
       "    }\n",
       "\n",
       "    .dataframe thead th {\n",
       "        text-align: right;\n",
       "    }\n",
       "</style>\n",
       "<table border=\"1\" class=\"dataframe\">\n",
       "  <thead>\n",
       "    <tr style=\"text-align: right;\">\n",
       "      <th></th>\n",
       "      <th>id</th>\n",
       "      <th>name</th>\n",
       "      <th>intelligence</th>\n",
       "      <th>strength</th>\n",
       "      <th>speed</th>\n",
       "      <th>durability</th>\n",
       "      <th>power</th>\n",
       "      <th>combat</th>\n",
       "      <th>full-name</th>\n",
       "      <th>alter-egos</th>\n",
       "      <th>...</th>\n",
       "      <th>race</th>\n",
       "      <th>height</th>\n",
       "      <th>weight</th>\n",
       "      <th>eye-color</th>\n",
       "      <th>hair-color</th>\n",
       "      <th>occupation</th>\n",
       "      <th>base</th>\n",
       "      <th>group-affiliation</th>\n",
       "      <th>relatives</th>\n",
       "      <th>url</th>\n",
       "    </tr>\n",
       "  </thead>\n",
       "  <tbody>\n",
       "    <tr>\n",
       "      <th>0</th>\n",
       "      <td>1</td>\n",
       "      <td>A-Bomb</td>\n",
       "      <td>38.0</td>\n",
       "      <td>100.0</td>\n",
       "      <td>17.0</td>\n",
       "      <td>80.0</td>\n",
       "      <td>24.0</td>\n",
       "      <td>64.0</td>\n",
       "      <td>Richard Milhouse Jones</td>\n",
       "      <td>No alter egos found.</td>\n",
       "      <td>...</td>\n",
       "      <td>Human</td>\n",
       "      <td>[\"6'8\", '203 cm']</td>\n",
       "      <td>['980 lb', '441 kg']</td>\n",
       "      <td>Yellow</td>\n",
       "      <td>No Hair</td>\n",
       "      <td>Musician, adventurer, author; formerly talk sh...</td>\n",
       "      <td>-</td>\n",
       "      <td>Hulk Family; Excelsior (sponsor), Avengers (ho...</td>\n",
       "      <td>Marlo Chandler-Jones (wife); Polly (aunt); Mrs...</td>\n",
       "      <td>https://www.superherodb.com/pictures2/portrait...</td>\n",
       "    </tr>\n",
       "    <tr>\n",
       "      <th>1</th>\n",
       "      <td>2</td>\n",
       "      <td>Abe Sapien</td>\n",
       "      <td>88.0</td>\n",
       "      <td>28.0</td>\n",
       "      <td>35.0</td>\n",
       "      <td>65.0</td>\n",
       "      <td>100.0</td>\n",
       "      <td>85.0</td>\n",
       "      <td>Abraham Sapien</td>\n",
       "      <td>No alter egos found.</td>\n",
       "      <td>...</td>\n",
       "      <td>Icthyo Sapien</td>\n",
       "      <td>[\"6'3\", '191 cm']</td>\n",
       "      <td>['145 lb', '65 kg']</td>\n",
       "      <td>Blue</td>\n",
       "      <td>No Hair</td>\n",
       "      <td>Paranormal Investigator</td>\n",
       "      <td>-</td>\n",
       "      <td>Bureau for Paranormal Research and Defense</td>\n",
       "      <td>Edith Howard (wife, deceased)</td>\n",
       "      <td>https://www.superherodb.com/pictures2/portrait...</td>\n",
       "    </tr>\n",
       "    <tr>\n",
       "      <th>2</th>\n",
       "      <td>3</td>\n",
       "      <td>Abin Sur</td>\n",
       "      <td>50.0</td>\n",
       "      <td>90.0</td>\n",
       "      <td>53.0</td>\n",
       "      <td>64.0</td>\n",
       "      <td>99.0</td>\n",
       "      <td>65.0</td>\n",
       "      <td>NaN</td>\n",
       "      <td>No alter egos found.</td>\n",
       "      <td>...</td>\n",
       "      <td>Ungaran</td>\n",
       "      <td>[\"6'1\", '185 cm']</td>\n",
       "      <td>['200 lb', '90 kg']</td>\n",
       "      <td>Blue</td>\n",
       "      <td>No Hair</td>\n",
       "      <td>Green Lantern, former history professor</td>\n",
       "      <td>Oa</td>\n",
       "      <td>Green Lantern Corps, Black Lantern Corps</td>\n",
       "      <td>Amon Sur (son), Arin Sur (sister), Thaal Sines...</td>\n",
       "      <td>https://www.superherodb.com/pictures2/portrait...</td>\n",
       "    </tr>\n",
       "    <tr>\n",
       "      <th>3</th>\n",
       "      <td>4</td>\n",
       "      <td>Abomination</td>\n",
       "      <td>63.0</td>\n",
       "      <td>80.0</td>\n",
       "      <td>53.0</td>\n",
       "      <td>90.0</td>\n",
       "      <td>62.0</td>\n",
       "      <td>95.0</td>\n",
       "      <td>Emil Blonsky</td>\n",
       "      <td>No alter egos found.</td>\n",
       "      <td>...</td>\n",
       "      <td>Human / Radiation</td>\n",
       "      <td>[\"6'8\", '203 cm']</td>\n",
       "      <td>['980 lb', '441 kg']</td>\n",
       "      <td>Green</td>\n",
       "      <td>No Hair</td>\n",
       "      <td>Ex-Spy</td>\n",
       "      <td>Mobile</td>\n",
       "      <td>former member of the crew of the Andromeda Sta...</td>\n",
       "      <td>Nadia Dornova Blonsky (wife, separated)</td>\n",
       "      <td>https://www.superherodb.com/pictures2/portrait...</td>\n",
       "    </tr>\n",
       "    <tr>\n",
       "      <th>4</th>\n",
       "      <td>5</td>\n",
       "      <td>Abraxas</td>\n",
       "      <td>88.0</td>\n",
       "      <td>63.0</td>\n",
       "      <td>83.0</td>\n",
       "      <td>100.0</td>\n",
       "      <td>100.0</td>\n",
       "      <td>55.0</td>\n",
       "      <td>Abraxas</td>\n",
       "      <td>No alter egos found.</td>\n",
       "      <td>...</td>\n",
       "      <td>Cosmic Entity</td>\n",
       "      <td>['-', '0 cm']</td>\n",
       "      <td>['- lb', '0 kg']</td>\n",
       "      <td>Blue</td>\n",
       "      <td>Black</td>\n",
       "      <td>Dimensional destroyer</td>\n",
       "      <td>-</td>\n",
       "      <td>Cosmic Beings</td>\n",
       "      <td>Eternity (\"Father\")</td>\n",
       "      <td>https://www.superherodb.com/pictures2/portrait...</td>\n",
       "    </tr>\n",
       "  </tbody>\n",
       "</table>\n",
       "<p>5 rows × 26 columns</p>\n",
       "</div>"
      ],
      "text/plain": [
       "   id         name  intelligence  strength  speed  durability  power  combat  \\\n",
       "0   1       A-Bomb          38.0     100.0   17.0        80.0   24.0    64.0   \n",
       "1   2   Abe Sapien          88.0      28.0   35.0        65.0  100.0    85.0   \n",
       "2   3     Abin Sur          50.0      90.0   53.0        64.0   99.0    65.0   \n",
       "3   4  Abomination          63.0      80.0   53.0        90.0   62.0    95.0   \n",
       "4   5      Abraxas          88.0      63.0   83.0       100.0  100.0    55.0   \n",
       "\n",
       "                full-name            alter-egos  ...               race  \\\n",
       "0  Richard Milhouse Jones  No alter egos found.  ...              Human   \n",
       "1          Abraham Sapien  No alter egos found.  ...      Icthyo Sapien   \n",
       "2                     NaN  No alter egos found.  ...            Ungaran   \n",
       "3            Emil Blonsky  No alter egos found.  ...  Human / Radiation   \n",
       "4                 Abraxas  No alter egos found.  ...      Cosmic Entity   \n",
       "\n",
       "              height                weight eye-color hair-color  \\\n",
       "0  [\"6'8\", '203 cm']  ['980 lb', '441 kg']    Yellow    No Hair   \n",
       "1  [\"6'3\", '191 cm']   ['145 lb', '65 kg']      Blue    No Hair   \n",
       "2  [\"6'1\", '185 cm']   ['200 lb', '90 kg']      Blue    No Hair   \n",
       "3  [\"6'8\", '203 cm']  ['980 lb', '441 kg']     Green    No Hair   \n",
       "4      ['-', '0 cm']      ['- lb', '0 kg']      Blue      Black   \n",
       "\n",
       "                                          occupation    base  \\\n",
       "0  Musician, adventurer, author; formerly talk sh...       -   \n",
       "1                            Paranormal Investigator       -   \n",
       "2            Green Lantern, former history professor      Oa   \n",
       "3                                             Ex-Spy  Mobile   \n",
       "4                              Dimensional destroyer       -   \n",
       "\n",
       "                                   group-affiliation  \\\n",
       "0  Hulk Family; Excelsior (sponsor), Avengers (ho...   \n",
       "1         Bureau for Paranormal Research and Defense   \n",
       "2           Green Lantern Corps, Black Lantern Corps   \n",
       "3  former member of the crew of the Andromeda Sta...   \n",
       "4                                      Cosmic Beings   \n",
       "\n",
       "                                           relatives  \\\n",
       "0  Marlo Chandler-Jones (wife); Polly (aunt); Mrs...   \n",
       "1                      Edith Howard (wife, deceased)   \n",
       "2  Amon Sur (son), Arin Sur (sister), Thaal Sines...   \n",
       "3            Nadia Dornova Blonsky (wife, separated)   \n",
       "4                                Eternity (\"Father\")   \n",
       "\n",
       "                                                 url  \n",
       "0  https://www.superherodb.com/pictures2/portrait...  \n",
       "1  https://www.superherodb.com/pictures2/portrait...  \n",
       "2  https://www.superherodb.com/pictures2/portrait...  \n",
       "3  https://www.superherodb.com/pictures2/portrait...  \n",
       "4  https://www.superherodb.com/pictures2/portrait...  \n",
       "\n",
       "[5 rows x 26 columns]"
      ]
     },
     "execution_count": 23,
     "metadata": {},
     "output_type": "execute_result"
    }
   ],
   "source": [
    "# Import the dataset.\n",
    "\n",
    "df = pd.read_csv(\"superheroes_data.csv\")\n",
    "\n",
    "# Preview the dataset.\n",
    "\n",
    "df.head()\n"
   ]
  },
  {
   "cell_type": "code",
   "execution_count": 3,
   "metadata": {},
   "outputs": [
    {
     "name": "stdout",
     "output_type": "stream",
     "text": [
      "<class 'pandas.core.frame.DataFrame'>\n",
      "RangeIndex: 731 entries, 0 to 730\n",
      "Data columns (total 26 columns):\n",
      " #   Column             Non-Null Count  Dtype  \n",
      "---  ------             --------------  -----  \n",
      " 0   id                 731 non-null    int64  \n",
      " 1   name               731 non-null    object \n",
      " 2   intelligence       566 non-null    float64\n",
      " 3   strength           629 non-null    float64\n",
      " 4   speed              566 non-null    float64\n",
      " 5   durability         566 non-null    float64\n",
      " 6   power              566 non-null    float64\n",
      " 7   combat             566 non-null    float64\n",
      " 8   full-name          630 non-null    object \n",
      " 9   alter-egos         731 non-null    object \n",
      " 10  aliases            731 non-null    object \n",
      " 11  place-of-birth     731 non-null    object \n",
      " 12  first-appearance   731 non-null    object \n",
      " 13  publisher          716 non-null    object \n",
      " 14  alignment          731 non-null    object \n",
      " 15  gender             731 non-null    object \n",
      " 16  race               429 non-null    object \n",
      " 17  height             731 non-null    object \n",
      " 18  weight             731 non-null    object \n",
      " 19  eye-color          731 non-null    object \n",
      " 20  hair-color         731 non-null    object \n",
      " 21  occupation         731 non-null    object \n",
      " 22  base               731 non-null    object \n",
      " 23  group-affiliation  731 non-null    object \n",
      " 24  relatives          731 non-null    object \n",
      " 25  url                731 non-null    object \n",
      "dtypes: float64(6), int64(1), object(19)\n",
      "memory usage: 148.6+ KB\n"
     ]
    },
    {
     "data": {
      "text/plain": [
       "(731, 26)"
      ]
     },
     "execution_count": 3,
     "metadata": {},
     "output_type": "execute_result"
    }
   ],
   "source": [
    "# View the summary of the dataset.\n",
    "\n",
    "df.info()\n",
    "\n",
    "# View the shape of the dataset.\n",
    "\n",
    "df.shape"
   ]
  },
  {
   "cell_type": "code",
   "execution_count": 4,
   "metadata": {},
   "outputs": [
    {
     "data": {
      "text/html": [
       "<div>\n",
       "<style scoped>\n",
       "    .dataframe tbody tr th:only-of-type {\n",
       "        vertical-align: middle;\n",
       "    }\n",
       "\n",
       "    .dataframe tbody tr th {\n",
       "        vertical-align: top;\n",
       "    }\n",
       "\n",
       "    .dataframe thead th {\n",
       "        text-align: right;\n",
       "    }\n",
       "</style>\n",
       "<table border=\"1\" class=\"dataframe\">\n",
       "  <thead>\n",
       "    <tr style=\"text-align: right;\">\n",
       "      <th></th>\n",
       "      <th>name</th>\n",
       "      <th>intelligence</th>\n",
       "      <th>strength</th>\n",
       "      <th>speed</th>\n",
       "      <th>durability</th>\n",
       "      <th>power</th>\n",
       "      <th>combat</th>\n",
       "    </tr>\n",
       "  </thead>\n",
       "  <tbody>\n",
       "    <tr>\n",
       "      <th>0</th>\n",
       "      <td>A-Bomb</td>\n",
       "      <td>38.0</td>\n",
       "      <td>100.0</td>\n",
       "      <td>17.0</td>\n",
       "      <td>80.0</td>\n",
       "      <td>24.0</td>\n",
       "      <td>64.0</td>\n",
       "    </tr>\n",
       "    <tr>\n",
       "      <th>1</th>\n",
       "      <td>Abe Sapien</td>\n",
       "      <td>88.0</td>\n",
       "      <td>28.0</td>\n",
       "      <td>35.0</td>\n",
       "      <td>65.0</td>\n",
       "      <td>100.0</td>\n",
       "      <td>85.0</td>\n",
       "    </tr>\n",
       "    <tr>\n",
       "      <th>2</th>\n",
       "      <td>Abin Sur</td>\n",
       "      <td>50.0</td>\n",
       "      <td>90.0</td>\n",
       "      <td>53.0</td>\n",
       "      <td>64.0</td>\n",
       "      <td>99.0</td>\n",
       "      <td>65.0</td>\n",
       "    </tr>\n",
       "    <tr>\n",
       "      <th>3</th>\n",
       "      <td>Abomination</td>\n",
       "      <td>63.0</td>\n",
       "      <td>80.0</td>\n",
       "      <td>53.0</td>\n",
       "      <td>90.0</td>\n",
       "      <td>62.0</td>\n",
       "      <td>95.0</td>\n",
       "    </tr>\n",
       "    <tr>\n",
       "      <th>4</th>\n",
       "      <td>Abraxas</td>\n",
       "      <td>88.0</td>\n",
       "      <td>63.0</td>\n",
       "      <td>83.0</td>\n",
       "      <td>100.0</td>\n",
       "      <td>100.0</td>\n",
       "      <td>55.0</td>\n",
       "    </tr>\n",
       "  </tbody>\n",
       "</table>\n",
       "</div>"
      ],
      "text/plain": [
       "          name  intelligence  strength  speed  durability  power  combat\n",
       "0       A-Bomb          38.0     100.0   17.0        80.0   24.0    64.0\n",
       "1   Abe Sapien          88.0      28.0   35.0        65.0  100.0    85.0\n",
       "2     Abin Sur          50.0      90.0   53.0        64.0   99.0    65.0\n",
       "3  Abomination          63.0      80.0   53.0        90.0   62.0    95.0\n",
       "4      Abraxas          88.0      63.0   83.0       100.0  100.0    55.0"
      ]
     },
     "execution_count": 4,
     "metadata": {},
     "output_type": "execute_result"
    }
   ],
   "source": [
    "# Trim the original dataset to include only the required features.\n",
    "\n",
    "df = df[[\"name\", \"intelligence\", \"strength\", \"speed\", \"durability\", \"power\", \"combat\"]]\n",
    "\n",
    "# Preview the dataset.\n",
    "\n",
    "df.head()"
   ]
  },
  {
   "cell_type": "code",
   "execution_count": 5,
   "metadata": {},
   "outputs": [
    {
     "name": "stdout",
     "output_type": "stream",
     "text": [
      "<class 'pandas.core.frame.DataFrame'>\n",
      "RangeIndex: 731 entries, 0 to 730\n",
      "Data columns (total 7 columns):\n",
      " #   Column        Non-Null Count  Dtype  \n",
      "---  ------        --------------  -----  \n",
      " 0   name          731 non-null    object \n",
      " 1   intelligence  566 non-null    float64\n",
      " 2   strength      629 non-null    float64\n",
      " 3   speed         566 non-null    float64\n",
      " 4   durability    566 non-null    float64\n",
      " 5   power         566 non-null    float64\n",
      " 6   combat        566 non-null    float64\n",
      "dtypes: float64(6), object(1)\n",
      "memory usage: 40.1+ KB\n"
     ]
    }
   ],
   "source": [
    "# View the summary of the dataset.\n",
    "\n",
    "df.info()"
   ]
  },
  {
   "cell_type": "code",
   "execution_count": 6,
   "metadata": {},
   "outputs": [
    {
     "data": {
      "text/plain": [
       "name              0\n",
       "intelligence    165\n",
       "strength        102\n",
       "speed           165\n",
       "durability      165\n",
       "power           165\n",
       "combat          165\n",
       "dtype: int64"
      ]
     },
     "execution_count": 6,
     "metadata": {},
     "output_type": "execute_result"
    }
   ],
   "source": [
    "# Check for missing values. \n",
    "\n",
    "df.isnull().sum()"
   ]
  },
  {
   "cell_type": "code",
   "execution_count": 7,
   "metadata": {},
   "outputs": [],
   "source": [
    "# Drop all the rows having NULL or missing values.\n",
    "\n",
    "df = df.dropna()\n",
    "\n",
    "# Check whether there are duplicate entries in the dataset.\n",
    "\n",
    "df[df.duplicated('name')]\n",
    "\n",
    "# Remove all duplicates and keep only the first instance in each case. Here. the duplicates are removed based on the 'name' column. \n",
    "\n",
    "df = df.apply(lambda x : x.astype(str).str.lower()).drop_duplicates(subset=['name'], keep='first')"
   ]
  },
  {
   "cell_type": "code",
   "execution_count": 8,
   "metadata": {},
   "outputs": [
    {
     "data": {
      "text/html": [
       "<div>\n",
       "<style scoped>\n",
       "    .dataframe tbody tr th:only-of-type {\n",
       "        vertical-align: middle;\n",
       "    }\n",
       "\n",
       "    .dataframe tbody tr th {\n",
       "        vertical-align: top;\n",
       "    }\n",
       "\n",
       "    .dataframe thead th {\n",
       "        text-align: right;\n",
       "    }\n",
       "</style>\n",
       "<table border=\"1\" class=\"dataframe\">\n",
       "  <thead>\n",
       "    <tr style=\"text-align: right;\">\n",
       "      <th></th>\n",
       "      <th>name</th>\n",
       "      <th>intelligence</th>\n",
       "      <th>strength</th>\n",
       "      <th>speed</th>\n",
       "      <th>durability</th>\n",
       "      <th>power</th>\n",
       "      <th>combat</th>\n",
       "    </tr>\n",
       "  </thead>\n",
       "  <tbody>\n",
       "    <tr>\n",
       "      <th>0</th>\n",
       "      <td>a-bomb</td>\n",
       "      <td>38.0</td>\n",
       "      <td>100.0</td>\n",
       "      <td>17.0</td>\n",
       "      <td>80.0</td>\n",
       "      <td>24.0</td>\n",
       "      <td>64.0</td>\n",
       "    </tr>\n",
       "    <tr>\n",
       "      <th>1</th>\n",
       "      <td>abe sapien</td>\n",
       "      <td>88.0</td>\n",
       "      <td>28.0</td>\n",
       "      <td>35.0</td>\n",
       "      <td>65.0</td>\n",
       "      <td>100.0</td>\n",
       "      <td>85.0</td>\n",
       "    </tr>\n",
       "    <tr>\n",
       "      <th>2</th>\n",
       "      <td>abin sur</td>\n",
       "      <td>50.0</td>\n",
       "      <td>90.0</td>\n",
       "      <td>53.0</td>\n",
       "      <td>64.0</td>\n",
       "      <td>99.0</td>\n",
       "      <td>65.0</td>\n",
       "    </tr>\n",
       "    <tr>\n",
       "      <th>3</th>\n",
       "      <td>abomination</td>\n",
       "      <td>63.0</td>\n",
       "      <td>80.0</td>\n",
       "      <td>53.0</td>\n",
       "      <td>90.0</td>\n",
       "      <td>62.0</td>\n",
       "      <td>95.0</td>\n",
       "    </tr>\n",
       "    <tr>\n",
       "      <th>4</th>\n",
       "      <td>abraxas</td>\n",
       "      <td>88.0</td>\n",
       "      <td>63.0</td>\n",
       "      <td>83.0</td>\n",
       "      <td>100.0</td>\n",
       "      <td>100.0</td>\n",
       "      <td>55.0</td>\n",
       "    </tr>\n",
       "  </tbody>\n",
       "</table>\n",
       "</div>"
      ],
      "text/plain": [
       "          name intelligence strength speed durability  power combat\n",
       "0       a-bomb         38.0    100.0  17.0       80.0   24.0   64.0\n",
       "1   abe sapien         88.0     28.0  35.0       65.0  100.0   85.0\n",
       "2     abin sur         50.0     90.0  53.0       64.0   99.0   65.0\n",
       "3  abomination         63.0     80.0  53.0       90.0   62.0   95.0\n",
       "4      abraxas         88.0     63.0  83.0      100.0  100.0   55.0"
      ]
     },
     "execution_count": 8,
     "metadata": {},
     "output_type": "execute_result"
    }
   ],
   "source": [
    "# Preview the dataset.\n",
    "\n",
    "df.head()"
   ]
  },
  {
   "cell_type": "code",
   "execution_count": 9,
   "metadata": {},
   "outputs": [
    {
     "name": "stdout",
     "output_type": "stream",
     "text": [
      "<class 'pandas.core.frame.DataFrame'>\n",
      "Index: 558 entries, 0 to 730\n",
      "Data columns (total 7 columns):\n",
      " #   Column        Non-Null Count  Dtype \n",
      "---  ------        --------------  ----- \n",
      " 0   name          558 non-null    object\n",
      " 1   intelligence  558 non-null    object\n",
      " 2   strength      558 non-null    object\n",
      " 3   speed         558 non-null    object\n",
      " 4   durability    558 non-null    object\n",
      " 5   power         558 non-null    object\n",
      " 6   combat        558 non-null    object\n",
      "dtypes: object(7)\n",
      "memory usage: 34.9+ KB\n"
     ]
    },
    {
     "data": {
      "text/plain": [
       "(558, 7)"
      ]
     },
     "execution_count": 9,
     "metadata": {},
     "output_type": "execute_result"
    }
   ],
   "source": [
    "# View the summary of the modified dataset.\n",
    "\n",
    "df.info()\n",
    "\n",
    "# View the shape of the modified dataset.\n",
    "\n",
    "df.shape"
   ]
  },
  {
   "cell_type": "code",
   "execution_count": 10,
   "metadata": {},
   "outputs": [],
   "source": [
    "# While running the info() in the above cell, we notice that the datatype of our numeric attributes have been converted into the 'object' type. Since it is not possible to run the corr() on non-numeric features, we now convert the datatype of the attributes into numeric (float64). \n",
    "\n",
    "df[[\"intelligence\", \"strength\", \"speed\", \"durability\", \"power\", \"combat\"]] = df[[\"intelligence\", \"strength\", \"speed\", \"durability\", \"power\", \"combat\"]].apply(pd.to_numeric)"
   ]
  },
  {
   "cell_type": "code",
   "execution_count": 11,
   "metadata": {},
   "outputs": [
    {
     "name": "stdout",
     "output_type": "stream",
     "text": [
      "<class 'pandas.core.frame.DataFrame'>\n",
      "Index: 558 entries, 0 to 730\n",
      "Data columns (total 7 columns):\n",
      " #   Column        Non-Null Count  Dtype  \n",
      "---  ------        --------------  -----  \n",
      " 0   name          558 non-null    object \n",
      " 1   intelligence  558 non-null    float64\n",
      " 2   strength      558 non-null    float64\n",
      " 3   speed         558 non-null    float64\n",
      " 4   durability    558 non-null    float64\n",
      " 5   power         558 non-null    float64\n",
      " 6   combat        558 non-null    float64\n",
      "dtypes: float64(6), object(1)\n",
      "memory usage: 34.9+ KB\n"
     ]
    }
   ],
   "source": [
    "# View the summary of the type converted dataset.\n",
    "\n",
    "df.info()"
   ]
  },
  {
   "cell_type": "code",
   "execution_count": 12,
   "metadata": {},
   "outputs": [
    {
     "data": {
      "text/html": [
       "<div>\n",
       "<style scoped>\n",
       "    .dataframe tbody tr th:only-of-type {\n",
       "        vertical-align: middle;\n",
       "    }\n",
       "\n",
       "    .dataframe tbody tr th {\n",
       "        vertical-align: top;\n",
       "    }\n",
       "\n",
       "    .dataframe thead th {\n",
       "        text-align: right;\n",
       "    }\n",
       "</style>\n",
       "<table border=\"1\" class=\"dataframe\">\n",
       "  <thead>\n",
       "    <tr style=\"text-align: right;\">\n",
       "      <th></th>\n",
       "      <th>intelligence</th>\n",
       "      <th>strength</th>\n",
       "      <th>speed</th>\n",
       "      <th>durability</th>\n",
       "      <th>power</th>\n",
       "      <th>combat</th>\n",
       "    </tr>\n",
       "  </thead>\n",
       "  <tbody>\n",
       "    <tr>\n",
       "      <th>count</th>\n",
       "      <td>558.000000</td>\n",
       "      <td>558.000000</td>\n",
       "      <td>558.000000</td>\n",
       "      <td>558.000000</td>\n",
       "      <td>558.000000</td>\n",
       "      <td>558.000000</td>\n",
       "    </tr>\n",
       "    <tr>\n",
       "      <th>mean</th>\n",
       "      <td>64.385305</td>\n",
       "      <td>41.777778</td>\n",
       "      <td>40.075269</td>\n",
       "      <td>58.763441</td>\n",
       "      <td>64.189964</td>\n",
       "      <td>61.517921</td>\n",
       "    </tr>\n",
       "    <tr>\n",
       "      <th>std</th>\n",
       "      <td>20.022078</td>\n",
       "      <td>33.210510</td>\n",
       "      <td>24.403506</td>\n",
       "      <td>30.041825</td>\n",
       "      <td>29.762491</td>\n",
       "      <td>23.341171</td>\n",
       "    </tr>\n",
       "    <tr>\n",
       "      <th>min</th>\n",
       "      <td>6.000000</td>\n",
       "      <td>4.000000</td>\n",
       "      <td>1.000000</td>\n",
       "      <td>1.000000</td>\n",
       "      <td>0.000000</td>\n",
       "      <td>5.000000</td>\n",
       "    </tr>\n",
       "    <tr>\n",
       "      <th>25%</th>\n",
       "      <td>50.000000</td>\n",
       "      <td>10.000000</td>\n",
       "      <td>23.000000</td>\n",
       "      <td>30.000000</td>\n",
       "      <td>38.000000</td>\n",
       "      <td>42.000000</td>\n",
       "    </tr>\n",
       "    <tr>\n",
       "      <th>50%</th>\n",
       "      <td>63.000000</td>\n",
       "      <td>32.000000</td>\n",
       "      <td>33.000000</td>\n",
       "      <td>60.000000</td>\n",
       "      <td>63.500000</td>\n",
       "      <td>64.000000</td>\n",
       "    </tr>\n",
       "    <tr>\n",
       "      <th>75%</th>\n",
       "      <td>75.000000</td>\n",
       "      <td>76.500000</td>\n",
       "      <td>50.000000</td>\n",
       "      <td>88.000000</td>\n",
       "      <td>100.000000</td>\n",
       "      <td>80.000000</td>\n",
       "    </tr>\n",
       "    <tr>\n",
       "      <th>max</th>\n",
       "      <td>100.000000</td>\n",
       "      <td>100.000000</td>\n",
       "      <td>100.000000</td>\n",
       "      <td>110.000000</td>\n",
       "      <td>100.000000</td>\n",
       "      <td>101.000000</td>\n",
       "    </tr>\n",
       "  </tbody>\n",
       "</table>\n",
       "</div>"
      ],
      "text/plain": [
       "       intelligence    strength       speed  durability       power  \\\n",
       "count    558.000000  558.000000  558.000000  558.000000  558.000000   \n",
       "mean      64.385305   41.777778   40.075269   58.763441   64.189964   \n",
       "std       20.022078   33.210510   24.403506   30.041825   29.762491   \n",
       "min        6.000000    4.000000    1.000000    1.000000    0.000000   \n",
       "25%       50.000000   10.000000   23.000000   30.000000   38.000000   \n",
       "50%       63.000000   32.000000   33.000000   60.000000   63.500000   \n",
       "75%       75.000000   76.500000   50.000000   88.000000  100.000000   \n",
       "max      100.000000  100.000000  100.000000  110.000000  100.000000   \n",
       "\n",
       "           combat  \n",
       "count  558.000000  \n",
       "mean    61.517921  \n",
       "std     23.341171  \n",
       "min      5.000000  \n",
       "25%     42.000000  \n",
       "50%     64.000000  \n",
       "75%     80.000000  \n",
       "max    101.000000  "
      ]
     },
     "execution_count": 12,
     "metadata": {},
     "output_type": "execute_result"
    }
   ],
   "source": [
    "# View the statistical summary of the dataset.\n",
    "\n",
    "df.describe()"
   ]
  },
  {
   "cell_type": "code",
   "execution_count": 13,
   "metadata": {},
   "outputs": [
    {
     "data": {
      "text/html": [
       "<div>\n",
       "<style scoped>\n",
       "    .dataframe tbody tr th:only-of-type {\n",
       "        vertical-align: middle;\n",
       "    }\n",
       "\n",
       "    .dataframe tbody tr th {\n",
       "        vertical-align: top;\n",
       "    }\n",
       "\n",
       "    .dataframe thead th {\n",
       "        text-align: right;\n",
       "    }\n",
       "</style>\n",
       "<table border=\"1\" class=\"dataframe\">\n",
       "  <thead>\n",
       "    <tr style=\"text-align: right;\">\n",
       "      <th></th>\n",
       "      <th>intelligence</th>\n",
       "      <th>strength</th>\n",
       "      <th>speed</th>\n",
       "      <th>durability</th>\n",
       "      <th>power</th>\n",
       "      <th>combat</th>\n",
       "    </tr>\n",
       "  </thead>\n",
       "  <tbody>\n",
       "    <tr>\n",
       "      <th>intelligence</th>\n",
       "      <td>1.000000</td>\n",
       "      <td>0.200351</td>\n",
       "      <td>0.181403</td>\n",
       "      <td>0.191263</td>\n",
       "      <td>0.252820</td>\n",
       "      <td>0.328172</td>\n",
       "    </tr>\n",
       "    <tr>\n",
       "      <th>strength</th>\n",
       "      <td>0.200351</td>\n",
       "      <td>1.000000</td>\n",
       "      <td>0.502922</td>\n",
       "      <td>0.680582</td>\n",
       "      <td>0.450979</td>\n",
       "      <td>0.241184</td>\n",
       "    </tr>\n",
       "    <tr>\n",
       "      <th>speed</th>\n",
       "      <td>0.181403</td>\n",
       "      <td>0.502922</td>\n",
       "      <td>1.000000</td>\n",
       "      <td>0.471614</td>\n",
       "      <td>0.441073</td>\n",
       "      <td>0.180298</td>\n",
       "    </tr>\n",
       "    <tr>\n",
       "      <th>durability</th>\n",
       "      <td>0.191263</td>\n",
       "      <td>0.680582</td>\n",
       "      <td>0.471614</td>\n",
       "      <td>1.000000</td>\n",
       "      <td>0.508891</td>\n",
       "      <td>0.215719</td>\n",
       "    </tr>\n",
       "    <tr>\n",
       "      <th>power</th>\n",
       "      <td>0.252820</td>\n",
       "      <td>0.450979</td>\n",
       "      <td>0.441073</td>\n",
       "      <td>0.508891</td>\n",
       "      <td>1.000000</td>\n",
       "      <td>0.149629</td>\n",
       "    </tr>\n",
       "    <tr>\n",
       "      <th>combat</th>\n",
       "      <td>0.328172</td>\n",
       "      <td>0.241184</td>\n",
       "      <td>0.180298</td>\n",
       "      <td>0.215719</td>\n",
       "      <td>0.149629</td>\n",
       "      <td>1.000000</td>\n",
       "    </tr>\n",
       "  </tbody>\n",
       "</table>\n",
       "</div>"
      ],
      "text/plain": [
       "              intelligence  strength     speed  durability     power    combat\n",
       "intelligence      1.000000  0.200351  0.181403    0.191263  0.252820  0.328172\n",
       "strength          0.200351  1.000000  0.502922    0.680582  0.450979  0.241184\n",
       "speed             0.181403  0.502922  1.000000    0.471614  0.441073  0.180298\n",
       "durability        0.191263  0.680582  0.471614    1.000000  0.508891  0.215719\n",
       "power             0.252820  0.450979  0.441073    0.508891  1.000000  0.149629\n",
       "combat            0.328172  0.241184  0.180298    0.215719  0.149629  1.000000"
      ]
     },
     "execution_count": 13,
     "metadata": {},
     "output_type": "execute_result"
    }
   ],
   "source": [
    "# Calculate the correlation between the different features in the dataset.\n",
    "\n",
    "df.corr(numeric_only=True)"
   ]
  },
  {
   "cell_type": "code",
   "execution_count": 14,
   "metadata": {},
   "outputs": [
    {
     "data": {
      "application/vnd.plotly.v1+json": {
       "config": {
        "plotlyServerURL": "https://plot.ly"
       },
       "data": [
        {
         "coloraxis": "coloraxis",
         "hovertemplate": "x: %{x}<br>y: %{y}<br>color: %{z}<extra></extra>",
         "name": "0",
         "type": "heatmap",
         "x": [
          "intelligence",
          "strength",
          "speed",
          "durability",
          "power",
          "combat"
         ],
         "xaxis": "x",
         "y": [
          "intelligence",
          "strength",
          "speed",
          "durability",
          "power",
          "combat"
         ],
         "yaxis": "y",
         "z": [
          [
           1,
           0.20035122029673982,
           0.1814032030145174,
           0.1912629745269562,
           0.25282032282512173,
           0.32817183002449696
          ],
          [
           0.20035122029673982,
           1,
           0.502922326212336,
           0.6805815395518102,
           0.45097938499444595,
           0.24118396910707182
          ],
          [
           0.1814032030145174,
           0.502922326212336,
           1,
           0.47161359196516295,
           0.44107322594625376,
           0.18029787643312725
          ],
          [
           0.1912629745269562,
           0.6805815395518102,
           0.47161359196516295,
           1,
           0.5088906878004472,
           0.21571893077596482
          ],
          [
           0.25282032282512173,
           0.45097938499444595,
           0.44107322594625376,
           0.5088906878004472,
           1,
           0.14962949218014848
          ],
          [
           0.32817183002449696,
           0.24118396910707182,
           0.18029787643312725,
           0.21571893077596482,
           0.14962949218014848,
           1
          ]
         ]
        }
       ],
       "layout": {
        "coloraxis": {
         "colorscale": [
          [
           0,
           "#0d0887"
          ],
          [
           0.1111111111111111,
           "#46039f"
          ],
          [
           0.2222222222222222,
           "#7201a8"
          ],
          [
           0.3333333333333333,
           "#9c179e"
          ],
          [
           0.4444444444444444,
           "#bd3786"
          ],
          [
           0.5555555555555556,
           "#d8576b"
          ],
          [
           0.6666666666666666,
           "#ed7953"
          ],
          [
           0.7777777777777778,
           "#fb9f3a"
          ],
          [
           0.8888888888888888,
           "#fdca26"
          ],
          [
           1,
           "#f0f921"
          ]
         ]
        },
        "template": {
         "data": {
          "bar": [
           {
            "error_x": {
             "color": "#2a3f5f"
            },
            "error_y": {
             "color": "#2a3f5f"
            },
            "marker": {
             "line": {
              "color": "white",
              "width": 0.5
             },
             "pattern": {
              "fillmode": "overlay",
              "size": 10,
              "solidity": 0.2
             }
            },
            "type": "bar"
           }
          ],
          "barpolar": [
           {
            "marker": {
             "line": {
              "color": "white",
              "width": 0.5
             },
             "pattern": {
              "fillmode": "overlay",
              "size": 10,
              "solidity": 0.2
             }
            },
            "type": "barpolar"
           }
          ],
          "carpet": [
           {
            "aaxis": {
             "endlinecolor": "#2a3f5f",
             "gridcolor": "#C8D4E3",
             "linecolor": "#C8D4E3",
             "minorgridcolor": "#C8D4E3",
             "startlinecolor": "#2a3f5f"
            },
            "baxis": {
             "endlinecolor": "#2a3f5f",
             "gridcolor": "#C8D4E3",
             "linecolor": "#C8D4E3",
             "minorgridcolor": "#C8D4E3",
             "startlinecolor": "#2a3f5f"
            },
            "type": "carpet"
           }
          ],
          "choropleth": [
           {
            "colorbar": {
             "outlinewidth": 0,
             "ticks": ""
            },
            "type": "choropleth"
           }
          ],
          "contour": [
           {
            "colorbar": {
             "outlinewidth": 0,
             "ticks": ""
            },
            "colorscale": [
             [
              0,
              "#0d0887"
             ],
             [
              0.1111111111111111,
              "#46039f"
             ],
             [
              0.2222222222222222,
              "#7201a8"
             ],
             [
              0.3333333333333333,
              "#9c179e"
             ],
             [
              0.4444444444444444,
              "#bd3786"
             ],
             [
              0.5555555555555556,
              "#d8576b"
             ],
             [
              0.6666666666666666,
              "#ed7953"
             ],
             [
              0.7777777777777778,
              "#fb9f3a"
             ],
             [
              0.8888888888888888,
              "#fdca26"
             ],
             [
              1,
              "#f0f921"
             ]
            ],
            "type": "contour"
           }
          ],
          "contourcarpet": [
           {
            "colorbar": {
             "outlinewidth": 0,
             "ticks": ""
            },
            "type": "contourcarpet"
           }
          ],
          "heatmap": [
           {
            "colorbar": {
             "outlinewidth": 0,
             "ticks": ""
            },
            "colorscale": [
             [
              0,
              "#0d0887"
             ],
             [
              0.1111111111111111,
              "#46039f"
             ],
             [
              0.2222222222222222,
              "#7201a8"
             ],
             [
              0.3333333333333333,
              "#9c179e"
             ],
             [
              0.4444444444444444,
              "#bd3786"
             ],
             [
              0.5555555555555556,
              "#d8576b"
             ],
             [
              0.6666666666666666,
              "#ed7953"
             ],
             [
              0.7777777777777778,
              "#fb9f3a"
             ],
             [
              0.8888888888888888,
              "#fdca26"
             ],
             [
              1,
              "#f0f921"
             ]
            ],
            "type": "heatmap"
           }
          ],
          "heatmapgl": [
           {
            "colorbar": {
             "outlinewidth": 0,
             "ticks": ""
            },
            "colorscale": [
             [
              0,
              "#0d0887"
             ],
             [
              0.1111111111111111,
              "#46039f"
             ],
             [
              0.2222222222222222,
              "#7201a8"
             ],
             [
              0.3333333333333333,
              "#9c179e"
             ],
             [
              0.4444444444444444,
              "#bd3786"
             ],
             [
              0.5555555555555556,
              "#d8576b"
             ],
             [
              0.6666666666666666,
              "#ed7953"
             ],
             [
              0.7777777777777778,
              "#fb9f3a"
             ],
             [
              0.8888888888888888,
              "#fdca26"
             ],
             [
              1,
              "#f0f921"
             ]
            ],
            "type": "heatmapgl"
           }
          ],
          "histogram": [
           {
            "marker": {
             "pattern": {
              "fillmode": "overlay",
              "size": 10,
              "solidity": 0.2
             }
            },
            "type": "histogram"
           }
          ],
          "histogram2d": [
           {
            "colorbar": {
             "outlinewidth": 0,
             "ticks": ""
            },
            "colorscale": [
             [
              0,
              "#0d0887"
             ],
             [
              0.1111111111111111,
              "#46039f"
             ],
             [
              0.2222222222222222,
              "#7201a8"
             ],
             [
              0.3333333333333333,
              "#9c179e"
             ],
             [
              0.4444444444444444,
              "#bd3786"
             ],
             [
              0.5555555555555556,
              "#d8576b"
             ],
             [
              0.6666666666666666,
              "#ed7953"
             ],
             [
              0.7777777777777778,
              "#fb9f3a"
             ],
             [
              0.8888888888888888,
              "#fdca26"
             ],
             [
              1,
              "#f0f921"
             ]
            ],
            "type": "histogram2d"
           }
          ],
          "histogram2dcontour": [
           {
            "colorbar": {
             "outlinewidth": 0,
             "ticks": ""
            },
            "colorscale": [
             [
              0,
              "#0d0887"
             ],
             [
              0.1111111111111111,
              "#46039f"
             ],
             [
              0.2222222222222222,
              "#7201a8"
             ],
             [
              0.3333333333333333,
              "#9c179e"
             ],
             [
              0.4444444444444444,
              "#bd3786"
             ],
             [
              0.5555555555555556,
              "#d8576b"
             ],
             [
              0.6666666666666666,
              "#ed7953"
             ],
             [
              0.7777777777777778,
              "#fb9f3a"
             ],
             [
              0.8888888888888888,
              "#fdca26"
             ],
             [
              1,
              "#f0f921"
             ]
            ],
            "type": "histogram2dcontour"
           }
          ],
          "mesh3d": [
           {
            "colorbar": {
             "outlinewidth": 0,
             "ticks": ""
            },
            "type": "mesh3d"
           }
          ],
          "parcoords": [
           {
            "line": {
             "colorbar": {
              "outlinewidth": 0,
              "ticks": ""
             }
            },
            "type": "parcoords"
           }
          ],
          "pie": [
           {
            "automargin": true,
            "type": "pie"
           }
          ],
          "scatter": [
           {
            "fillpattern": {
             "fillmode": "overlay",
             "size": 10,
             "solidity": 0.2
            },
            "type": "scatter"
           }
          ],
          "scatter3d": [
           {
            "line": {
             "colorbar": {
              "outlinewidth": 0,
              "ticks": ""
             }
            },
            "marker": {
             "colorbar": {
              "outlinewidth": 0,
              "ticks": ""
             }
            },
            "type": "scatter3d"
           }
          ],
          "scattercarpet": [
           {
            "marker": {
             "colorbar": {
              "outlinewidth": 0,
              "ticks": ""
             }
            },
            "type": "scattercarpet"
           }
          ],
          "scattergeo": [
           {
            "marker": {
             "colorbar": {
              "outlinewidth": 0,
              "ticks": ""
             }
            },
            "type": "scattergeo"
           }
          ],
          "scattergl": [
           {
            "marker": {
             "colorbar": {
              "outlinewidth": 0,
              "ticks": ""
             }
            },
            "type": "scattergl"
           }
          ],
          "scattermapbox": [
           {
            "marker": {
             "colorbar": {
              "outlinewidth": 0,
              "ticks": ""
             }
            },
            "type": "scattermapbox"
           }
          ],
          "scatterpolar": [
           {
            "marker": {
             "colorbar": {
              "outlinewidth": 0,
              "ticks": ""
             }
            },
            "type": "scatterpolar"
           }
          ],
          "scatterpolargl": [
           {
            "marker": {
             "colorbar": {
              "outlinewidth": 0,
              "ticks": ""
             }
            },
            "type": "scatterpolargl"
           }
          ],
          "scatterternary": [
           {
            "marker": {
             "colorbar": {
              "outlinewidth": 0,
              "ticks": ""
             }
            },
            "type": "scatterternary"
           }
          ],
          "surface": [
           {
            "colorbar": {
             "outlinewidth": 0,
             "ticks": ""
            },
            "colorscale": [
             [
              0,
              "#0d0887"
             ],
             [
              0.1111111111111111,
              "#46039f"
             ],
             [
              0.2222222222222222,
              "#7201a8"
             ],
             [
              0.3333333333333333,
              "#9c179e"
             ],
             [
              0.4444444444444444,
              "#bd3786"
             ],
             [
              0.5555555555555556,
              "#d8576b"
             ],
             [
              0.6666666666666666,
              "#ed7953"
             ],
             [
              0.7777777777777778,
              "#fb9f3a"
             ],
             [
              0.8888888888888888,
              "#fdca26"
             ],
             [
              1,
              "#f0f921"
             ]
            ],
            "type": "surface"
           }
          ],
          "table": [
           {
            "cells": {
             "fill": {
              "color": "#EBF0F8"
             },
             "line": {
              "color": "white"
             }
            },
            "header": {
             "fill": {
              "color": "#C8D4E3"
             },
             "line": {
              "color": "white"
             }
            },
            "type": "table"
           }
          ]
         },
         "layout": {
          "annotationdefaults": {
           "arrowcolor": "#2a3f5f",
           "arrowhead": 0,
           "arrowwidth": 1
          },
          "autotypenumbers": "strict",
          "coloraxis": {
           "colorbar": {
            "outlinewidth": 0,
            "ticks": ""
           }
          },
          "colorscale": {
           "diverging": [
            [
             0,
             "#8e0152"
            ],
            [
             0.1,
             "#c51b7d"
            ],
            [
             0.2,
             "#de77ae"
            ],
            [
             0.3,
             "#f1b6da"
            ],
            [
             0.4,
             "#fde0ef"
            ],
            [
             0.5,
             "#f7f7f7"
            ],
            [
             0.6,
             "#e6f5d0"
            ],
            [
             0.7,
             "#b8e186"
            ],
            [
             0.8,
             "#7fbc41"
            ],
            [
             0.9,
             "#4d9221"
            ],
            [
             1,
             "#276419"
            ]
           ],
           "sequential": [
            [
             0,
             "#0d0887"
            ],
            [
             0.1111111111111111,
             "#46039f"
            ],
            [
             0.2222222222222222,
             "#7201a8"
            ],
            [
             0.3333333333333333,
             "#9c179e"
            ],
            [
             0.4444444444444444,
             "#bd3786"
            ],
            [
             0.5555555555555556,
             "#d8576b"
            ],
            [
             0.6666666666666666,
             "#ed7953"
            ],
            [
             0.7777777777777778,
             "#fb9f3a"
            ],
            [
             0.8888888888888888,
             "#fdca26"
            ],
            [
             1,
             "#f0f921"
            ]
           ],
           "sequentialminus": [
            [
             0,
             "#0d0887"
            ],
            [
             0.1111111111111111,
             "#46039f"
            ],
            [
             0.2222222222222222,
             "#7201a8"
            ],
            [
             0.3333333333333333,
             "#9c179e"
            ],
            [
             0.4444444444444444,
             "#bd3786"
            ],
            [
             0.5555555555555556,
             "#d8576b"
            ],
            [
             0.6666666666666666,
             "#ed7953"
            ],
            [
             0.7777777777777778,
             "#fb9f3a"
            ],
            [
             0.8888888888888888,
             "#fdca26"
            ],
            [
             1,
             "#f0f921"
            ]
           ]
          },
          "colorway": [
           "#636efa",
           "#EF553B",
           "#00cc96",
           "#ab63fa",
           "#FFA15A",
           "#19d3f3",
           "#FF6692",
           "#B6E880",
           "#FF97FF",
           "#FECB52"
          ],
          "font": {
           "color": "#2a3f5f"
          },
          "geo": {
           "bgcolor": "white",
           "lakecolor": "white",
           "landcolor": "white",
           "showlakes": true,
           "showland": true,
           "subunitcolor": "#C8D4E3"
          },
          "hoverlabel": {
           "align": "left"
          },
          "hovermode": "closest",
          "mapbox": {
           "style": "light"
          },
          "paper_bgcolor": "white",
          "plot_bgcolor": "white",
          "polar": {
           "angularaxis": {
            "gridcolor": "#EBF0F8",
            "linecolor": "#EBF0F8",
            "ticks": ""
           },
           "bgcolor": "white",
           "radialaxis": {
            "gridcolor": "#EBF0F8",
            "linecolor": "#EBF0F8",
            "ticks": ""
           }
          },
          "scene": {
           "xaxis": {
            "backgroundcolor": "white",
            "gridcolor": "#DFE8F3",
            "gridwidth": 2,
            "linecolor": "#EBF0F8",
            "showbackground": true,
            "ticks": "",
            "zerolinecolor": "#EBF0F8"
           },
           "yaxis": {
            "backgroundcolor": "white",
            "gridcolor": "#DFE8F3",
            "gridwidth": 2,
            "linecolor": "#EBF0F8",
            "showbackground": true,
            "ticks": "",
            "zerolinecolor": "#EBF0F8"
           },
           "zaxis": {
            "backgroundcolor": "white",
            "gridcolor": "#DFE8F3",
            "gridwidth": 2,
            "linecolor": "#EBF0F8",
            "showbackground": true,
            "ticks": "",
            "zerolinecolor": "#EBF0F8"
           }
          },
          "shapedefaults": {
           "line": {
            "color": "#2a3f5f"
           }
          },
          "ternary": {
           "aaxis": {
            "gridcolor": "#DFE8F3",
            "linecolor": "#A2B1C6",
            "ticks": ""
           },
           "baxis": {
            "gridcolor": "#DFE8F3",
            "linecolor": "#A2B1C6",
            "ticks": ""
           },
           "bgcolor": "white",
           "caxis": {
            "gridcolor": "#DFE8F3",
            "linecolor": "#A2B1C6",
            "ticks": ""
           }
          },
          "title": {
           "x": 0.05
          },
          "xaxis": {
           "automargin": true,
           "gridcolor": "#EBF0F8",
           "linecolor": "#EBF0F8",
           "ticks": "",
           "title": {
            "standoff": 15
           },
           "zerolinecolor": "#EBF0F8",
           "zerolinewidth": 2
          },
          "yaxis": {
           "automargin": true,
           "gridcolor": "#EBF0F8",
           "linecolor": "#EBF0F8",
           "ticks": "",
           "title": {
            "standoff": 15
           },
           "zerolinecolor": "#EBF0F8",
           "zerolinewidth": 2
          }
         }
        },
        "title": {
         "text": "Correlation Heatmap"
        },
        "xaxis": {
         "anchor": "y",
         "constrain": "domain",
         "domain": [
          0,
          1
         ],
         "scaleanchor": "y"
        },
        "yaxis": {
         "anchor": "x",
         "autorange": "reversed",
         "constrain": "domain",
         "domain": [
          0,
          1
         ]
        }
       }
      }
     },
     "metadata": {},
     "output_type": "display_data"
    }
   ],
   "source": [
    "# Graphical representation of the correlation matrix.\n",
    "\n",
    "correlation_fig = px.imshow(df.corr(numeric_only='True'), \n",
    "                            title='Correlation Heatmap')\n",
    "correlation_fig.show()"
   ]
  },
  {
   "cell_type": "code",
   "execution_count": 15,
   "metadata": {},
   "outputs": [],
   "source": [
    "# Using the KMeans Clustering Technique to classify the dataset.\n",
    "\n",
    "df1 = df[[\"intelligence\", \"strength\", \"speed\", \"durability\", \"power\", \"combat\"]]\n",
    "\n",
    "from sklearn.preprocessing import MinMaxScaler\n",
    "for i in df1.columns:\n",
    "    MinMaxScaler(i)\n",
    "    \n",
    "from sklearn.cluster import KMeans\n",
    "kmeans = KMeans(n_clusters=10)\n",
    "clusters = kmeans.fit_predict(df1)\n",
    "kmeans.fit_predict(df1)\n",
    "\n",
    "df[\"Power Rank\"] = clusters\n",
    "MinMaxScaler(df[\"Power Rank\"])\n",
    "df[\"Power Rank\"] = df[\"Power Rank\"].map({1: \"Cluster 1\", 2: \n",
    "    \"Cluster 2\", 3: \"Cluster 3\", 4: \"Cluster 4\", 5: \"Cluster 5\", \n",
    "    6: \"Cluster 6\", 7: \"Cluster 7\", 8: \"Cluster 8\", \n",
    "    9: \"Cluster 9\", 10: \"Cluster 10\", 11: \"Cluster 11\"})\n"
   ]
  },
  {
   "cell_type": "code",
   "execution_count": 16,
   "metadata": {},
   "outputs": [
    {
     "data": {
      "text/html": [
       "<div>\n",
       "<style scoped>\n",
       "    .dataframe tbody tr th:only-of-type {\n",
       "        vertical-align: middle;\n",
       "    }\n",
       "\n",
       "    .dataframe tbody tr th {\n",
       "        vertical-align: top;\n",
       "    }\n",
       "\n",
       "    .dataframe thead th {\n",
       "        text-align: right;\n",
       "    }\n",
       "</style>\n",
       "<table border=\"1\" class=\"dataframe\">\n",
       "  <thead>\n",
       "    <tr style=\"text-align: right;\">\n",
       "      <th></th>\n",
       "      <th>name</th>\n",
       "      <th>intelligence</th>\n",
       "      <th>strength</th>\n",
       "      <th>speed</th>\n",
       "      <th>durability</th>\n",
       "      <th>power</th>\n",
       "      <th>combat</th>\n",
       "      <th>Power Rank</th>\n",
       "    </tr>\n",
       "  </thead>\n",
       "  <tbody>\n",
       "    <tr>\n",
       "      <th>0</th>\n",
       "      <td>a-bomb</td>\n",
       "      <td>38.0</td>\n",
       "      <td>100.0</td>\n",
       "      <td>17.0</td>\n",
       "      <td>80.0</td>\n",
       "      <td>24.0</td>\n",
       "      <td>64.0</td>\n",
       "      <td>Cluster 5</td>\n",
       "    </tr>\n",
       "    <tr>\n",
       "      <th>1</th>\n",
       "      <td>abe sapien</td>\n",
       "      <td>88.0</td>\n",
       "      <td>28.0</td>\n",
       "      <td>35.0</td>\n",
       "      <td>65.0</td>\n",
       "      <td>100.0</td>\n",
       "      <td>85.0</td>\n",
       "      <td>Cluster 9</td>\n",
       "    </tr>\n",
       "    <tr>\n",
       "      <th>2</th>\n",
       "      <td>abin sur</td>\n",
       "      <td>50.0</td>\n",
       "      <td>90.0</td>\n",
       "      <td>53.0</td>\n",
       "      <td>64.0</td>\n",
       "      <td>99.0</td>\n",
       "      <td>65.0</td>\n",
       "      <td>Cluster 4</td>\n",
       "    </tr>\n",
       "    <tr>\n",
       "      <th>3</th>\n",
       "      <td>abomination</td>\n",
       "      <td>63.0</td>\n",
       "      <td>80.0</td>\n",
       "      <td>53.0</td>\n",
       "      <td>90.0</td>\n",
       "      <td>62.0</td>\n",
       "      <td>95.0</td>\n",
       "      <td>Cluster 4</td>\n",
       "    </tr>\n",
       "    <tr>\n",
       "      <th>4</th>\n",
       "      <td>abraxas</td>\n",
       "      <td>88.0</td>\n",
       "      <td>63.0</td>\n",
       "      <td>83.0</td>\n",
       "      <td>100.0</td>\n",
       "      <td>100.0</td>\n",
       "      <td>55.0</td>\n",
       "      <td>NaN</td>\n",
       "    </tr>\n",
       "  </tbody>\n",
       "</table>\n",
       "</div>"
      ],
      "text/plain": [
       "          name  intelligence  strength  speed  durability  power  combat  \\\n",
       "0       a-bomb          38.0     100.0   17.0        80.0   24.0    64.0   \n",
       "1   abe sapien          88.0      28.0   35.0        65.0  100.0    85.0   \n",
       "2     abin sur          50.0      90.0   53.0        64.0   99.0    65.0   \n",
       "3  abomination          63.0      80.0   53.0        90.0   62.0    95.0   \n",
       "4      abraxas          88.0      63.0   83.0       100.0  100.0    55.0   \n",
       "\n",
       "  Power Rank  \n",
       "0  Cluster 5  \n",
       "1  Cluster 9  \n",
       "2  Cluster 4  \n",
       "3  Cluster 4  \n",
       "4        NaN  "
      ]
     },
     "execution_count": 16,
     "metadata": {},
     "output_type": "execute_result"
    }
   ],
   "source": [
    "df.shape\n",
    "df.head()"
   ]
  },
  {
   "cell_type": "code",
   "execution_count": 17,
   "metadata": {},
   "outputs": [
    {
     "name": "stdout",
     "output_type": "stream",
     "text": [
      "<class 'pandas.core.frame.DataFrame'>\n",
      "Index: 558 entries, 0 to 730\n",
      "Data columns (total 8 columns):\n",
      " #   Column        Non-Null Count  Dtype  \n",
      "---  ------        --------------  -----  \n",
      " 0   name          558 non-null    object \n",
      " 1   intelligence  558 non-null    float64\n",
      " 2   strength      558 non-null    float64\n",
      " 3   speed         558 non-null    float64\n",
      " 4   durability    558 non-null    float64\n",
      " 5   power         558 non-null    float64\n",
      " 6   combat        558 non-null    float64\n",
      " 7   Power Rank    499 non-null    object \n",
      "dtypes: float64(6), object(2)\n",
      "memory usage: 39.2+ KB\n"
     ]
    }
   ],
   "source": [
    "df.info()"
   ]
  },
  {
   "cell_type": "code",
   "execution_count": 18,
   "metadata": {},
   "outputs": [
    {
     "name": "stdout",
     "output_type": "stream",
     "text": [
      "Davies-Bouldin Index: 1.4756205628997499\n"
     ]
    }
   ],
   "source": [
    "# Evaluating the K-Means Model using the Davies-Bouldin Index.\n",
    "\n",
    "label = kmeans.labels_\n",
    "db_index = davies_bouldin_score(df1, label)\n",
    "print(f\"Davies-Bouldin Index: {db_index}\")"
   ]
  },
  {
   "cell_type": "code",
   "execution_count": 19,
   "metadata": {},
   "outputs": [
    {
     "data": {
      "image/png": "[encoded data removed]",
      "text/plain": [
       "<Figure size 640x480 with 1 Axes>"
      ]
     },
     "metadata": {},
     "output_type": "display_data"
    }
   ],
   "source": [
    "# Using the Elbow Method to find the optimal number of clusters.\n",
    "\n",
    "cs = []\n",
    "for i in range(1, 11):\n",
    "    kmeans = KMeans(n_clusters = i, init = 'k-means++', max_iter = 300, n_init = 10, random_state = 0)\n",
    "    kmeans.fit(df1)\n",
    "    cs.append(kmeans.inertia_)\n",
    "plt.plot(range(1, 11), cs)\n",
    "plt.title('The Elbow Method')\n",
    "plt.xlabel('Number of clusters')\n",
    "plt.ylabel('CS')\n",
    "plt.show()"
   ]
  },
  {
   "cell_type": "code",
   "execution_count": 20,
   "metadata": {},
   "outputs": [
    {
     "data": {
      "image/png": "[encoded data removed]",
      "text/plain": [
       "<Figure size 1200x600 with 1 Axes>"
      ]
     },
     "metadata": {},
     "output_type": "display_data"
    }
   ],
   "source": [
    "# Using Agglomerative Clustering to cross validate the model.\n",
    "\n",
    "from sklearn.cluster import AgglomerativeClustering\n",
    "from scipy.cluster.hierarchy import dendrogram, linkage\n",
    "\n",
    "agg_clustering = AgglomerativeClustering(n_clusters=10)\n",
    "agg_clustering.fit(df1)\n",
    "\n",
    "labels = agg_clustering.labels_\n",
    "\n",
    "linkage_matrix = linkage(df1, method='ward')\n",
    "\n",
    "plt.figure(figsize=(12, 6))\n",
    "dendrogram(linkage_matrix, orientation=\"top\", labels=labels, distance_sort='descending')\n",
    "plt.title('Dendrogram')\n",
    "plt.show()"
   ]
  },
  {
   "cell_type": "code",
   "execution_count": 21,
   "metadata": {},
   "outputs": [
    {
     "name": "stdout",
     "output_type": "stream",
     "text": [
      "Davies-Bouldin Index: 1.4831263994642672\n"
     ]
    }
   ],
   "source": [
    "# Evaluating the Aggloremative clustering Model using the Davies-Bouldin Index.\n",
    "\n",
    "db_index = davies_bouldin_score(df1, labels)\n",
    "print(f\"Davies-Bouldin Index: {db_index}\")"
   ]
  }
 ],
 "metadata": {
  "kernelspec": {
   "display_name": "base",
   "language": "python",
   "name": "python3"
  },
  "language_info": {
   "codemirror_mode": {
    "name": "ipython",
    "version": 3
   },
   "file_extension": ".py",
   "mimetype": "text/x-python",
   "name": "python",
   "nbconvert_exporter": "python",
   "pygments_lexer": "ipython3",
   "version": "3.12.4"
  }
 },
 "nbformat": 4,
 "nbformat_minor": 2
}
